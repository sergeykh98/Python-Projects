{
 "cells": [
  {
   "cell_type": "markdown",
   "metadata": {},
   "source": [
    "<h2>Project #2 - Web Scraping Billboard And Spotify API</h2>\n",
    "Sergey Khegay"
   ]
  },
  {
   "cell_type": "markdown",
   "metadata": {},
   "source": [
    "### Import necessary Libraries"
   ]
  },
  {
   "cell_type": "code",
   "execution_count": 1,
   "metadata": {},
   "outputs": [],
   "source": [
    "# importing the libraries\n",
    "import pandas as pd\n",
    "from bs4 import BeautifulSoup\n",
    "import requests\n",
    "import csv\n",
    "import spotipy\n",
    "from spotipy.oauth2 import SpotifyClientCredentials #To access authorised Spotify data\n",
    "from tqdm.notebook import tqdm, trange\n",
    "from datetime import datetime\n",
    "import time    # to be used in loop iterations"
   ]
  },
  {
   "cell_type": "markdown",
   "metadata": {},
   "source": [
    "### Define Functions and Lists for Web Scarping"
   ]
  },
  {
   "cell_type": "markdown",
   "metadata": {},
   "source": [
    "Define function to web scrape **artist name's** from given Billboard link and store it in **Artists** list."
   ]
  },
  {
   "cell_type": "code",
   "execution_count": 2,
   "metadata": {},
   "outputs": [],
   "source": [
    "Artists = []\n",
    "def webscraping_name(link_url,list_name):\n",
    "    url_content = requests.get(link_url)\n",
    "    soup = BeautifulSoup(url_content.content, 'html.parser')\n",
    "    name_list = soup.find_all('span', class_=\"chart-element__information__artist\")\n",
    "    for i in name_list:\n",
    "        list_name.append(i.get_text())\n",
    "    print('Artist name\\'s  web scraped.')"
   ]
  },
  {
   "cell_type": "markdown",
   "metadata": {},
   "source": [
    "Define function to web scrape **name of the songs**  from given Billboard link and store it in **Songs** list."
   ]
  },
  {
   "cell_type": "code",
   "execution_count": 3,
   "metadata": {},
   "outputs": [],
   "source": [
    "Songs = []\n",
    "Peak = []\n",
    "def webscraping_songs(link_url,list_song,list_peak):\n",
    "    url_content = requests.get(link_url)\n",
    "    soup = BeautifulSoup(url_content.content, 'html.parser')\n",
    "    name_list = soup.find_all('span', class_=\"chart-element__information__song\")\n",
    "    for i in name_list:\n",
    "        list_song.append(i.get_text())\n",
    "    peak_list = soup.find_all('span', class_=\"chart-element__meta text--center color--secondary text--peak\")\n",
    "    for i in peak_list:\n",
    "        list_peak.append(i.get_text())\n",
    "    print('Billboard track\\'s web scraped.')"
   ]
  },
  {
   "cell_type": "markdown",
   "metadata": {},
   "source": [
    "### Run Web Scraping Functions and Create Dataframe"
   ]
  },
  {
   "cell_type": "markdown",
   "metadata": {},
   "source": [
    "Define **Billboard URL** and run the funtions."
   ]
  },
  {
   "cell_type": "code",
   "execution_count": 4,
   "metadata": {},
   "outputs": [
    {
     "name": "stdout",
     "output_type": "stream",
     "text": [
      "Artist name's  web scraped.\n",
      "Billboard track's web scraped.\n"
     ]
    }
   ],
   "source": [
    "url = \"https://www.billboard.com/charts/billboard-global-200\"\n",
    "webscraping_name(url,Artists)\n",
    "webscraping_songs(url,Songs,Peak)"
   ]
  },
  {
   "cell_type": "markdown",
   "metadata": {},
   "source": [
    "Create **Billboard dataframe** and assign lists to relative columns."
   ]
  },
  {
   "cell_type": "code",
   "execution_count": 5,
   "metadata": {},
   "outputs": [],
   "source": [
    "df_billboard = pd.DataFrame()\n",
    "df_billboard['Song'] = Songs\n",
    "df_billboard['Artist'] = Artists\n",
    "df_billboard['Billboard Peak'] = Peak\n",
    "#df_billboard"
   ]
  },
  {
   "cell_type": "markdown",
   "metadata": {},
   "source": [
    "### Define Spotify Credentials and Access"
   ]
  },
  {
   "cell_type": "code",
   "execution_count": 6,
   "metadata": {},
   "outputs": [],
   "source": [
    "client_id = '2ebbbedc6bd84d989c84ca1222925180'#{spotify client id}\n",
    "client_secret = '8740693f8ff8484b9218408e79620cca'#{spotify secret id}\n",
    "client_credentials_manager = SpotifyClientCredentials(client_id=client_id, client_secret=client_secret)\n",
    "sp = spotipy.Spotify(client_credentials_manager=client_credentials_manager) #spotify object to access API"
   ]
  },
  {
   "cell_type": "markdown",
   "metadata": {},
   "source": [
    "### Define Functions and Lists to Return Information Using API"
   ]
  },
  {
   "cell_type": "markdown",
   "metadata": {},
   "source": [
    "Define function to get **track uri** from Spotify request and store data in the **track_uris** list."
   ]
  },
  {
   "cell_type": "code",
   "execution_count": 7,
   "metadata": {},
   "outputs": [],
   "source": [
    "#Track uri List\n",
    "track_uris = []"
   ]
  },
  {
   "cell_type": "code",
   "execution_count": 8,
   "metadata": {},
   "outputs": [],
   "source": [
    "def get_track_uris(song_list,artist_list,uri_list):\n",
    "    with tqdm(total=len(song_list)) as p_bar:\n",
    "        for i in range(0, len(song_list)):\n",
    "            p_bar.set_description(f'Working on \"{i+1}\"')\n",
    "            p_bar.update(1)\n",
    "            song = str(artist_list[i])+','+str(song_list[i])\n",
    "            search = sp.search(song)\n",
    "            if search['tracks']['total']==0:\n",
    "                song = str(song_list[i])\n",
    "                search = sp.search(song)\n",
    "            track_uri = search['tracks']['items'][0]['uri']\n",
    "            uri_list.append(track_uri)"
   ]
  },
  {
   "cell_type": "markdown",
   "metadata": {},
   "source": [
    "Define function to request **audio features** and store it in relative lists using **track uri**."
   ]
  },
  {
   "cell_type": "code",
   "execution_count": 9,
   "metadata": {},
   "outputs": [],
   "source": [
    "#Audio Features List\n",
    "acousticness = []\n",
    "danceability = []\n",
    "energy = []\n",
    "instrumentalness = []\n",
    "liveness = []\n",
    "loudness = []\n",
    "speechiness = []\n",
    "valence = []\n",
    "tempo = []\n",
    "key = []\n",
    "mode = []\n",
    "time_sig = []\n",
    "duration = []"
   ]
  },
  {
   "cell_type": "code",
   "execution_count": 10,
   "metadata": {},
   "outputs": [],
   "source": [
    "def audio_features(uri_list):\n",
    "    with tqdm(total=len(uri_list)) as p_bar:\n",
    "        count = 1\n",
    "        for i in uri_list:\n",
    "            p_bar.set_description(f'Working on \"{count}\"')\n",
    "            count +=1\n",
    "            p_bar.update(1)\n",
    "            features = sp.audio_features(i)\n",
    "            acousticness.append(features[0]['acousticness'])\n",
    "            danceability.append(features[0]['danceability'])\n",
    "            energy.append(features[0]['energy'])\n",
    "            instrumentalness.append(features[0]['instrumentalness'])\n",
    "            liveness.append(features[0]['liveness'])\n",
    "            loudness.append(features[0]['loudness'])\n",
    "            speechiness.append(features[0]['speechiness'])\n",
    "            tempo.append(features[0]['tempo'])\n",
    "            valence.append(features[0]['valence'])\n",
    "            key.append(features[0]['key'])\n",
    "            mode.append(features[0]['mode'])\n",
    "            time_sig.append(features[0]['time_signature'])\n",
    "            duration.append(features[0]['duration_ms'])"
   ]
  },
  {
   "cell_type": "markdown",
   "metadata": {},
   "source": [
    "Define function to request additional information including **album, track popularity, release data**, and whether the track is **explicit**. "
   ]
  },
  {
   "cell_type": "code",
   "execution_count": 11,
   "metadata": {},
   "outputs": [],
   "source": [
    "#Track Info List\n",
    "popularity = []\n",
    "album_name = []\n",
    "popularity = []\n",
    "explicit = []\n",
    "release_date = []"
   ]
  },
  {
   "cell_type": "code",
   "execution_count": 12,
   "metadata": {},
   "outputs": [],
   "source": [
    "#Additional Track Information\n",
    "def track_information(uri_list):\n",
    "    with tqdm(total=len(uri_list)) as p_bar:\n",
    "        count = 1\n",
    "        for i in uri_list:\n",
    "            p_bar.set_description(f'Working on \"{count}\"')\n",
    "            p_bar.update(1)\n",
    "            count +=1\n",
    "            track_info = sp.track(i)\n",
    "            popularity.append(track_info['popularity'])\n",
    "            album_name.append(track_info['album']['name'])\n",
    "            explicit.append(track_info['explicit'])\n",
    "            release_date.append(track_info['album']['release_date'])"
   ]
  },
  {
   "cell_type": "markdown",
   "metadata": {},
   "source": [
    "### Run API Functions Get Track Infromation From Spotify and Create Dataframe\n",
    "Request all information using Spotify API request."
   ]
  },
  {
   "cell_type": "code",
   "execution_count": 13,
   "metadata": {},
   "outputs": [
    {
     "data": {
      "application/vnd.jupyter.widget-view+json": {
       "model_id": "806b4b53268349a580f0b9b49ebda221",
       "version_major": 2,
       "version_minor": 0
      },
      "text/plain": [
       "HBox(children=(HTML(value=''), FloatProgress(value=0.0, max=200.0), HTML(value='')))"
      ]
     },
     "metadata": {},
     "output_type": "display_data"
    },
    {
     "name": "stdout",
     "output_type": "stream",
     "text": [
      "\n"
     ]
    },
    {
     "data": {
      "application/vnd.jupyter.widget-view+json": {
       "model_id": "5db7282a7c1849c6a621d34f5a28dace",
       "version_major": 2,
       "version_minor": 0
      },
      "text/plain": [
       "HBox(children=(HTML(value=''), FloatProgress(value=0.0, max=200.0), HTML(value='')))"
      ]
     },
     "metadata": {},
     "output_type": "display_data"
    },
    {
     "name": "stdout",
     "output_type": "stream",
     "text": [
      "\n"
     ]
    },
    {
     "data": {
      "application/vnd.jupyter.widget-view+json": {
       "model_id": "a7dd39e3e2e14c6a8a4446576a025a8c",
       "version_major": 2,
       "version_minor": 0
      },
      "text/plain": [
       "HBox(children=(HTML(value=''), FloatProgress(value=0.0, max=200.0), HTML(value='')))"
      ]
     },
     "metadata": {},
     "output_type": "display_data"
    },
    {
     "name": "stdout",
     "output_type": "stream",
     "text": [
      "\n"
     ]
    }
   ],
   "source": [
    "get_track_uris(Songs,Artists,track_uris)\n",
    "track_information(track_uris)\n",
    "audio_features(track_uris) "
   ]
  },
  {
   "cell_type": "markdown",
   "metadata": {},
   "source": [
    "Create **Spotify dataframe** and assign lists to relative columns."
   ]
  },
  {
   "cell_type": "code",
   "execution_count": 14,
   "metadata": {},
   "outputs": [],
   "source": [
    "df_spotify = pd.DataFrame()\n",
    "df_spotify['Track_URI'] = track_uris\n",
    "df_spotify['Explicit'] = explicit\n",
    "df_spotify['Album Name'] = album_name\n",
    "df_spotify['Release Date'] = release_date\n",
    "df_spotify['Popularity'] = popularity\n",
    "df_spotify['Acousticness'] = acousticness\n",
    "df_spotify['Danceability'] = danceability\n",
    "df_spotify['Energy'] = energy\n",
    "df_spotify['Instrumentalness'] = instrumentalness\n",
    "df_spotify['Liveness'] = liveness\n",
    "df_spotify['Loudness'] = loudness\n",
    "df_spotify['Speechiness'] = speechiness\n",
    "df_spotify['Valence'] = valence\n",
    "df_spotify['Tempo'] = tempo\n",
    "df_spotify['Key'] = key\n",
    "df_spotify['Mode'] = mode\n",
    "df_spotify['Time Signature'] = time_sig\n",
    "df_spotify['Duration(ms)'] = duration"
   ]
  },
  {
   "cell_type": "markdown",
   "metadata": {},
   "source": [
    "### Data Transformation"
   ]
  },
  {
   "cell_type": "markdown",
   "metadata": {},
   "source": [
    "Converting milliseconds to minutes."
   ]
  },
  {
   "cell_type": "code",
   "execution_count": 15,
   "metadata": {},
   "outputs": [],
   "source": [
    "def convert(ms):\n",
    "    time = datetime.fromtimestamp(ms/1000).strftime('%M:%S')\n",
    "    return time\n",
    "df_spotify['Duration(ms)']=df_spotify['Duration(ms)'].apply(convert)"
   ]
  },
  {
   "cell_type": "markdown",
   "metadata": {},
   "source": [
    "Converting integer key value to associated tonal counterpart."
   ]
  },
  {
   "cell_type": "code",
   "execution_count": 16,
   "metadata": {},
   "outputs": [],
   "source": [
    "def key(key):\n",
    "    if key==0:\n",
    "        return 'C'\n",
    "    elif key==1:\n",
    "        return 'C♯/D♭'\n",
    "    elif key==2:\n",
    "        return 'D'\n",
    "    elif key==3:\n",
    "        return 'D♯/E♭'\n",
    "    elif key==4:\n",
    "        return 'E'\n",
    "    elif key==5:\n",
    "        return 'F'\n",
    "    elif key==6:\n",
    "        return 'F♯/G♭'\n",
    "    elif key==7:\n",
    "        return 'G'\n",
    "    elif key==8:\n",
    "        return 'G♯/A♭'\n",
    "    elif key==9:\n",
    "        return 'A'\n",
    "    elif key==9:\n",
    "        return 'A♯/B♭'\n",
    "    elif key==10:\n",
    "        return 'B'\n",
    "    else:\n",
    "        return 'N/A'\n",
    "df_spotify['Key'] = df_spotify['Key'].apply(key)"
   ]
  },
  {
   "cell_type": "markdown",
   "metadata": {},
   "source": [
    "Converting Mode to Major or Minor."
   ]
  },
  {
   "cell_type": "code",
   "execution_count": 17,
   "metadata": {},
   "outputs": [],
   "source": [
    "def mode(mode):\n",
    "    if mode==0:\n",
    "        return 'Minor'\n",
    "    elif mode==1:\n",
    "        return 'Major'\n",
    "df_spotify['Mode'] = df_spotify['Mode'].apply(mode)"
   ]
  },
  {
   "cell_type": "markdown",
   "metadata": {},
   "source": [
    "### Combine Dataframes, Produce Descriptive Statisic ,and Export Dataframe to CSV"
   ]
  },
  {
   "cell_type": "markdown",
   "metadata": {},
   "source": [
    "Combine **Billboard** and **Spotify** Dataframes."
   ]
  },
  {
   "cell_type": "code",
   "execution_count": 18,
   "metadata": {},
   "outputs": [
    {
     "data": {
      "text/html": [
       "<div>\n",
       "<style scoped>\n",
       "    .dataframe tbody tr th:only-of-type {\n",
       "        vertical-align: middle;\n",
       "    }\n",
       "\n",
       "    .dataframe tbody tr th {\n",
       "        vertical-align: top;\n",
       "    }\n",
       "\n",
       "    .dataframe thead th {\n",
       "        text-align: right;\n",
       "    }\n",
       "</style>\n",
       "<table border=\"1\" class=\"dataframe\">\n",
       "  <thead>\n",
       "    <tr style=\"text-align: right;\">\n",
       "      <th></th>\n",
       "      <th>Song</th>\n",
       "      <th>Artist</th>\n",
       "      <th>Billboard Peak</th>\n",
       "      <th>Track_URI</th>\n",
       "      <th>Explicit</th>\n",
       "      <th>Album Name</th>\n",
       "      <th>Release Date</th>\n",
       "      <th>Popularity</th>\n",
       "      <th>Acousticness</th>\n",
       "      <th>Danceability</th>\n",
       "      <th>...</th>\n",
       "      <th>Instrumentalness</th>\n",
       "      <th>Liveness</th>\n",
       "      <th>Loudness</th>\n",
       "      <th>Speechiness</th>\n",
       "      <th>Valence</th>\n",
       "      <th>Tempo</th>\n",
       "      <th>Key</th>\n",
       "      <th>Mode</th>\n",
       "      <th>Time Signature</th>\n",
       "      <th>Duration(ms)</th>\n",
       "    </tr>\n",
       "  </thead>\n",
       "  <tbody>\n",
       "    <tr>\n",
       "      <th>0</th>\n",
       "      <td>Montero (Call Me By Your Name)</td>\n",
       "      <td>Lil Nas X</td>\n",
       "      <td>1</td>\n",
       "      <td>spotify:track:67BtfxlNbhBmCDR2L2l8qd</td>\n",
       "      <td>True</td>\n",
       "      <td>MONTERO (Call Me By Your Name)</td>\n",
       "      <td>2021-03-31</td>\n",
       "      <td>99</td>\n",
       "      <td>0.29700</td>\n",
       "      <td>0.610</td>\n",
       "      <td>...</td>\n",
       "      <td>0.000000</td>\n",
       "      <td>0.3840</td>\n",
       "      <td>-6.682</td>\n",
       "      <td>0.1520</td>\n",
       "      <td>0.758</td>\n",
       "      <td>178.818</td>\n",
       "      <td>G♯/A♭</td>\n",
       "      <td>Minor</td>\n",
       "      <td>4</td>\n",
       "      <td>02:17</td>\n",
       "    </tr>\n",
       "    <tr>\n",
       "      <th>1</th>\n",
       "      <td>Peaches</td>\n",
       "      <td>Justin Bieber Featuring Daniel Caesar &amp; Giveon</td>\n",
       "      <td>1</td>\n",
       "      <td>spotify:track:4iJyoBOLtHqaGxP12qzhQI</td>\n",
       "      <td>True</td>\n",
       "      <td>Justice</td>\n",
       "      <td>2021-03-19</td>\n",
       "      <td>100</td>\n",
       "      <td>0.32100</td>\n",
       "      <td>0.677</td>\n",
       "      <td>...</td>\n",
       "      <td>0.000000</td>\n",
       "      <td>0.4200</td>\n",
       "      <td>-6.181</td>\n",
       "      <td>0.1190</td>\n",
       "      <td>0.464</td>\n",
       "      <td>90.030</td>\n",
       "      <td>C</td>\n",
       "      <td>Major</td>\n",
       "      <td>4</td>\n",
       "      <td>03:18</td>\n",
       "    </tr>\n",
       "    <tr>\n",
       "      <th>2</th>\n",
       "      <td>Levitating</td>\n",
       "      <td>Dua Lipa Featuring DaBaby</td>\n",
       "      <td>3</td>\n",
       "      <td>spotify:track:463CkQjx2Zk1yXoBuierM9</td>\n",
       "      <td>False</td>\n",
       "      <td>Levitating (feat. DaBaby)</td>\n",
       "      <td>2020-10-01</td>\n",
       "      <td>91</td>\n",
       "      <td>0.00883</td>\n",
       "      <td>0.702</td>\n",
       "      <td>...</td>\n",
       "      <td>0.000000</td>\n",
       "      <td>0.0674</td>\n",
       "      <td>-3.787</td>\n",
       "      <td>0.0601</td>\n",
       "      <td>0.915</td>\n",
       "      <td>102.977</td>\n",
       "      <td>F♯/G♭</td>\n",
       "      <td>Minor</td>\n",
       "      <td>4</td>\n",
       "      <td>03:23</td>\n",
       "    </tr>\n",
       "    <tr>\n",
       "      <th>3</th>\n",
       "      <td>Save Your Tears</td>\n",
       "      <td>The Weeknd</td>\n",
       "      <td>1</td>\n",
       "      <td>spotify:track:37BZB0z9T8Xu7U3e65qxFy</td>\n",
       "      <td>False</td>\n",
       "      <td>Save Your Tears (Remix)</td>\n",
       "      <td>2021-04-23</td>\n",
       "      <td>94</td>\n",
       "      <td>0.02150</td>\n",
       "      <td>0.650</td>\n",
       "      <td>...</td>\n",
       "      <td>0.000024</td>\n",
       "      <td>0.0936</td>\n",
       "      <td>-4.645</td>\n",
       "      <td>0.0325</td>\n",
       "      <td>0.593</td>\n",
       "      <td>118.091</td>\n",
       "      <td>C</td>\n",
       "      <td>Major</td>\n",
       "      <td>4</td>\n",
       "      <td>03:11</td>\n",
       "    </tr>\n",
       "    <tr>\n",
       "      <th>4</th>\n",
       "      <td>Kiss Me More</td>\n",
       "      <td>Doja Cat Featuring SZA</td>\n",
       "      <td>5</td>\n",
       "      <td>spotify:track:748mdHapucXQri7IAO8yFK</td>\n",
       "      <td>True</td>\n",
       "      <td>Kiss Me More (feat. SZA)</td>\n",
       "      <td>2021-04-09</td>\n",
       "      <td>98</td>\n",
       "      <td>0.23500</td>\n",
       "      <td>0.762</td>\n",
       "      <td>...</td>\n",
       "      <td>0.000158</td>\n",
       "      <td>0.1230</td>\n",
       "      <td>-3.541</td>\n",
       "      <td>0.0286</td>\n",
       "      <td>0.742</td>\n",
       "      <td>110.968</td>\n",
       "      <td>G♯/A♭</td>\n",
       "      <td>Major</td>\n",
       "      <td>4</td>\n",
       "      <td>03:28</td>\n",
       "    </tr>\n",
       "    <tr>\n",
       "      <th>...</th>\n",
       "      <td>...</td>\n",
       "      <td>...</td>\n",
       "      <td>...</td>\n",
       "      <td>...</td>\n",
       "      <td>...</td>\n",
       "      <td>...</td>\n",
       "      <td>...</td>\n",
       "      <td>...</td>\n",
       "      <td>...</td>\n",
       "      <td>...</td>\n",
       "      <td>...</td>\n",
       "      <td>...</td>\n",
       "      <td>...</td>\n",
       "      <td>...</td>\n",
       "      <td>...</td>\n",
       "      <td>...</td>\n",
       "      <td>...</td>\n",
       "      <td>...</td>\n",
       "      <td>...</td>\n",
       "      <td>...</td>\n",
       "      <td>...</td>\n",
       "    </tr>\n",
       "    <tr>\n",
       "      <th>195</th>\n",
       "      <td>Somebody That I Used To Know</td>\n",
       "      <td>Gotye Featuring Kimbra</td>\n",
       "      <td>141</td>\n",
       "      <td>spotify:track:4wCmqSrbyCgxEXROQE6vtV</td>\n",
       "      <td>False</td>\n",
       "      <td>Making Mirrors</td>\n",
       "      <td>2011-01-01</td>\n",
       "      <td>77</td>\n",
       "      <td>0.59100</td>\n",
       "      <td>0.864</td>\n",
       "      <td>...</td>\n",
       "      <td>0.000133</td>\n",
       "      <td>0.0992</td>\n",
       "      <td>-7.036</td>\n",
       "      <td>0.0370</td>\n",
       "      <td>0.720</td>\n",
       "      <td>129.062</td>\n",
       "      <td>C</td>\n",
       "      <td>Major</td>\n",
       "      <td>4</td>\n",
       "      <td>04:04</td>\n",
       "    </tr>\n",
       "    <tr>\n",
       "      <th>196</th>\n",
       "      <td>Every Breath You Take</td>\n",
       "      <td>The Police</td>\n",
       "      <td>197</td>\n",
       "      <td>spotify:track:1JSTJqkT5qHq8MDJnJbRE1</td>\n",
       "      <td>False</td>\n",
       "      <td>Synchronicity (Remastered 2003)</td>\n",
       "      <td>1983-06-17</td>\n",
       "      <td>84</td>\n",
       "      <td>0.54300</td>\n",
       "      <td>0.820</td>\n",
       "      <td>...</td>\n",
       "      <td>0.002940</td>\n",
       "      <td>0.0714</td>\n",
       "      <td>-9.796</td>\n",
       "      <td>0.0348</td>\n",
       "      <td>0.740</td>\n",
       "      <td>117.401</td>\n",
       "      <td>C♯/D♭</td>\n",
       "      <td>Major</td>\n",
       "      <td>4</td>\n",
       "      <td>04:13</td>\n",
       "    </tr>\n",
       "    <tr>\n",
       "      <th>197</th>\n",
       "      <td>Lonely</td>\n",
       "      <td>Justin Bieber &amp; benny blanco</td>\n",
       "      <td>5</td>\n",
       "      <td>spotify:track:4fKiuIavbsoTRZ6R7xuAyT</td>\n",
       "      <td>True</td>\n",
       "      <td>Lonely (with benny blanco) [Main + Acoustic]</td>\n",
       "      <td>2020-10-27</td>\n",
       "      <td>59</td>\n",
       "      <td>0.96900</td>\n",
       "      <td>0.365</td>\n",
       "      <td>...</td>\n",
       "      <td>0.000002</td>\n",
       "      <td>0.6840</td>\n",
       "      <td>-10.610</td>\n",
       "      <td>0.0410</td>\n",
       "      <td>0.119</td>\n",
       "      <td>168.744</td>\n",
       "      <td>N/A</td>\n",
       "      <td>Minor</td>\n",
       "      <td>4</td>\n",
       "      <td>02:35</td>\n",
       "    </tr>\n",
       "    <tr>\n",
       "      <th>198</th>\n",
       "      <td>Tennessee Whiskey</td>\n",
       "      <td>Chris Stapleton</td>\n",
       "      <td>179</td>\n",
       "      <td>spotify:track:3fqwjXwUGN6vbzIwvyFMhx</td>\n",
       "      <td>False</td>\n",
       "      <td>Traveller</td>\n",
       "      <td>2015-05-04</td>\n",
       "      <td>79</td>\n",
       "      <td>0.20500</td>\n",
       "      <td>0.392</td>\n",
       "      <td>...</td>\n",
       "      <td>0.009600</td>\n",
       "      <td>0.0821</td>\n",
       "      <td>-10.888</td>\n",
       "      <td>0.0298</td>\n",
       "      <td>0.512</td>\n",
       "      <td>48.718</td>\n",
       "      <td>A</td>\n",
       "      <td>Major</td>\n",
       "      <td>4</td>\n",
       "      <td>04:53</td>\n",
       "    </tr>\n",
       "    <tr>\n",
       "      <th>199</th>\n",
       "      <td>You're Mines Still</td>\n",
       "      <td>Yung Bleu Featuring Drake</td>\n",
       "      <td>67</td>\n",
       "      <td>spotify:track:3wJ1OyP3Fugmi8t41e1zQ6</td>\n",
       "      <td>True</td>\n",
       "      <td>Love Scars: The 5 Stages Of Emotions (Deluxe)</td>\n",
       "      <td>2020-10-16</td>\n",
       "      <td>65</td>\n",
       "      <td>0.30800</td>\n",
       "      <td>0.613</td>\n",
       "      <td>...</td>\n",
       "      <td>0.000000</td>\n",
       "      <td>0.1070</td>\n",
       "      <td>-4.859</td>\n",
       "      <td>0.1070</td>\n",
       "      <td>0.342</td>\n",
       "      <td>86.782</td>\n",
       "      <td>F</td>\n",
       "      <td>Minor</td>\n",
       "      <td>4</td>\n",
       "      <td>03:46</td>\n",
       "    </tr>\n",
       "  </tbody>\n",
       "</table>\n",
       "<p>200 rows × 21 columns</p>\n",
       "</div>"
      ],
      "text/plain": [
       "                               Song  \\\n",
       "0    Montero (Call Me By Your Name)   \n",
       "1                           Peaches   \n",
       "2                        Levitating   \n",
       "3                   Save Your Tears   \n",
       "4                      Kiss Me More   \n",
       "..                              ...   \n",
       "195    Somebody That I Used To Know   \n",
       "196           Every Breath You Take   \n",
       "197                          Lonely   \n",
       "198               Tennessee Whiskey   \n",
       "199              You're Mines Still   \n",
       "\n",
       "                                             Artist Billboard Peak  \\\n",
       "0                                         Lil Nas X              1   \n",
       "1    Justin Bieber Featuring Daniel Caesar & Giveon              1   \n",
       "2                         Dua Lipa Featuring DaBaby              3   \n",
       "3                                        The Weeknd              1   \n",
       "4                            Doja Cat Featuring SZA              5   \n",
       "..                                              ...            ...   \n",
       "195                          Gotye Featuring Kimbra            141   \n",
       "196                                      The Police            197   \n",
       "197                    Justin Bieber & benny blanco              5   \n",
       "198                                 Chris Stapleton            179   \n",
       "199                       Yung Bleu Featuring Drake             67   \n",
       "\n",
       "                                Track_URI  Explicit  \\\n",
       "0    spotify:track:67BtfxlNbhBmCDR2L2l8qd      True   \n",
       "1    spotify:track:4iJyoBOLtHqaGxP12qzhQI      True   \n",
       "2    spotify:track:463CkQjx2Zk1yXoBuierM9     False   \n",
       "3    spotify:track:37BZB0z9T8Xu7U3e65qxFy     False   \n",
       "4    spotify:track:748mdHapucXQri7IAO8yFK      True   \n",
       "..                                    ...       ...   \n",
       "195  spotify:track:4wCmqSrbyCgxEXROQE6vtV     False   \n",
       "196  spotify:track:1JSTJqkT5qHq8MDJnJbRE1     False   \n",
       "197  spotify:track:4fKiuIavbsoTRZ6R7xuAyT      True   \n",
       "198  spotify:track:3fqwjXwUGN6vbzIwvyFMhx     False   \n",
       "199  spotify:track:3wJ1OyP3Fugmi8t41e1zQ6      True   \n",
       "\n",
       "                                        Album Name Release Date  Popularity  \\\n",
       "0                   MONTERO (Call Me By Your Name)   2021-03-31          99   \n",
       "1                                          Justice   2021-03-19         100   \n",
       "2                        Levitating (feat. DaBaby)   2020-10-01          91   \n",
       "3                          Save Your Tears (Remix)   2021-04-23          94   \n",
       "4                         Kiss Me More (feat. SZA)   2021-04-09          98   \n",
       "..                                             ...          ...         ...   \n",
       "195                                 Making Mirrors   2011-01-01          77   \n",
       "196                Synchronicity (Remastered 2003)   1983-06-17          84   \n",
       "197   Lonely (with benny blanco) [Main + Acoustic]   2020-10-27          59   \n",
       "198                                      Traveller   2015-05-04          79   \n",
       "199  Love Scars: The 5 Stages Of Emotions (Deluxe)   2020-10-16          65   \n",
       "\n",
       "     Acousticness  Danceability  ...  Instrumentalness  Liveness  Loudness  \\\n",
       "0         0.29700         0.610  ...          0.000000    0.3840    -6.682   \n",
       "1         0.32100         0.677  ...          0.000000    0.4200    -6.181   \n",
       "2         0.00883         0.702  ...          0.000000    0.0674    -3.787   \n",
       "3         0.02150         0.650  ...          0.000024    0.0936    -4.645   \n",
       "4         0.23500         0.762  ...          0.000158    0.1230    -3.541   \n",
       "..            ...           ...  ...               ...       ...       ...   \n",
       "195       0.59100         0.864  ...          0.000133    0.0992    -7.036   \n",
       "196       0.54300         0.820  ...          0.002940    0.0714    -9.796   \n",
       "197       0.96900         0.365  ...          0.000002    0.6840   -10.610   \n",
       "198       0.20500         0.392  ...          0.009600    0.0821   -10.888   \n",
       "199       0.30800         0.613  ...          0.000000    0.1070    -4.859   \n",
       "\n",
       "     Speechiness  Valence    Tempo    Key   Mode Time Signature  Duration(ms)  \n",
       "0         0.1520    0.758  178.818  G♯/A♭  Minor              4         02:17  \n",
       "1         0.1190    0.464   90.030      C  Major              4         03:18  \n",
       "2         0.0601    0.915  102.977  F♯/G♭  Minor              4         03:23  \n",
       "3         0.0325    0.593  118.091      C  Major              4         03:11  \n",
       "4         0.0286    0.742  110.968  G♯/A♭  Major              4         03:28  \n",
       "..           ...      ...      ...    ...    ...            ...           ...  \n",
       "195       0.0370    0.720  129.062      C  Major              4         04:04  \n",
       "196       0.0348    0.740  117.401  C♯/D♭  Major              4         04:13  \n",
       "197       0.0410    0.119  168.744    N/A  Minor              4         02:35  \n",
       "198       0.0298    0.512   48.718      A  Major              4         04:53  \n",
       "199       0.1070    0.342   86.782      F  Minor              4         03:46  \n",
       "\n",
       "[200 rows x 21 columns]"
      ]
     },
     "execution_count": 18,
     "metadata": {},
     "output_type": "execute_result"
    }
   ],
   "source": [
    "final_df = pd.concat([df_billboard, df_spotify], axis=1, sort=False)\n",
    "final_df"
   ]
  },
  {
   "cell_type": "markdown",
   "metadata": {},
   "source": [
    "Using **.describe()** function produce descriptive Statistics."
   ]
  },
  {
   "cell_type": "code",
   "execution_count": 19,
   "metadata": {},
   "outputs": [
    {
     "data": {
      "text/html": [
       "<div>\n",
       "<style scoped>\n",
       "    .dataframe tbody tr th:only-of-type {\n",
       "        vertical-align: middle;\n",
       "    }\n",
       "\n",
       "    .dataframe tbody tr th {\n",
       "        vertical-align: top;\n",
       "    }\n",
       "\n",
       "    .dataframe thead th {\n",
       "        text-align: right;\n",
       "    }\n",
       "</style>\n",
       "<table border=\"1\" class=\"dataframe\">\n",
       "  <thead>\n",
       "    <tr style=\"text-align: right;\">\n",
       "      <th></th>\n",
       "      <th>Popularity</th>\n",
       "      <th>Acousticness</th>\n",
       "      <th>Danceability</th>\n",
       "      <th>Energy</th>\n",
       "      <th>Instrumentalness</th>\n",
       "      <th>Liveness</th>\n",
       "      <th>Loudness</th>\n",
       "      <th>Speechiness</th>\n",
       "      <th>Valence</th>\n",
       "      <th>Tempo</th>\n",
       "      <th>Time Signature</th>\n",
       "    </tr>\n",
       "  </thead>\n",
       "  <tbody>\n",
       "    <tr>\n",
       "      <th>count</th>\n",
       "      <td>200.000000</td>\n",
       "      <td>200.000000</td>\n",
       "      <td>200.00000</td>\n",
       "      <td>200.000000</td>\n",
       "      <td>200.000000</td>\n",
       "      <td>200.000000</td>\n",
       "      <td>200.000000</td>\n",
       "      <td>200.000000</td>\n",
       "      <td>200.000000</td>\n",
       "      <td>200.000000</td>\n",
       "      <td>200.000000</td>\n",
       "    </tr>\n",
       "    <tr>\n",
       "      <th>mean</th>\n",
       "      <td>76.545000</td>\n",
       "      <td>0.256809</td>\n",
       "      <td>0.67276</td>\n",
       "      <td>0.606000</td>\n",
       "      <td>0.058808</td>\n",
       "      <td>0.168785</td>\n",
       "      <td>-6.783775</td>\n",
       "      <td>0.113762</td>\n",
       "      <td>0.507020</td>\n",
       "      <td>121.858770</td>\n",
       "      <td>3.980000</td>\n",
       "    </tr>\n",
       "    <tr>\n",
       "      <th>std</th>\n",
       "      <td>23.325057</td>\n",
       "      <td>0.268565</td>\n",
       "      <td>0.15347</td>\n",
       "      <td>0.179819</td>\n",
       "      <td>0.201666</td>\n",
       "      <td>0.128056</td>\n",
       "      <td>2.997011</td>\n",
       "      <td>0.108443</td>\n",
       "      <td>0.227467</td>\n",
       "      <td>28.714145</td>\n",
       "      <td>0.223269</td>\n",
       "    </tr>\n",
       "    <tr>\n",
       "      <th>min</th>\n",
       "      <td>0.000000</td>\n",
       "      <td>0.000025</td>\n",
       "      <td>0.23600</td>\n",
       "      <td>0.117000</td>\n",
       "      <td>0.000000</td>\n",
       "      <td>0.034400</td>\n",
       "      <td>-17.573000</td>\n",
       "      <td>0.023200</td>\n",
       "      <td>0.060500</td>\n",
       "      <td>48.718000</td>\n",
       "      <td>3.000000</td>\n",
       "    </tr>\n",
       "    <tr>\n",
       "      <th>25%</th>\n",
       "      <td>78.750000</td>\n",
       "      <td>0.036800</td>\n",
       "      <td>0.57800</td>\n",
       "      <td>0.490250</td>\n",
       "      <td>0.000000</td>\n",
       "      <td>0.095100</td>\n",
       "      <td>-8.085250</td>\n",
       "      <td>0.040375</td>\n",
       "      <td>0.333250</td>\n",
       "      <td>98.728250</td>\n",
       "      <td>4.000000</td>\n",
       "    </tr>\n",
       "    <tr>\n",
       "      <th>50%</th>\n",
       "      <td>84.000000</td>\n",
       "      <td>0.174500</td>\n",
       "      <td>0.68750</td>\n",
       "      <td>0.608500</td>\n",
       "      <td>0.000000</td>\n",
       "      <td>0.119500</td>\n",
       "      <td>-6.303500</td>\n",
       "      <td>0.060100</td>\n",
       "      <td>0.509000</td>\n",
       "      <td>121.478500</td>\n",
       "      <td>4.000000</td>\n",
       "    </tr>\n",
       "    <tr>\n",
       "      <th>75%</th>\n",
       "      <td>88.000000</td>\n",
       "      <td>0.401750</td>\n",
       "      <td>0.79425</td>\n",
       "      <td>0.729250</td>\n",
       "      <td>0.000139</td>\n",
       "      <td>0.185500</td>\n",
       "      <td>-4.662250</td>\n",
       "      <td>0.135250</td>\n",
       "      <td>0.680500</td>\n",
       "      <td>139.995000</td>\n",
       "      <td>4.000000</td>\n",
       "    </tr>\n",
       "    <tr>\n",
       "      <th>max</th>\n",
       "      <td>100.000000</td>\n",
       "      <td>0.987000</td>\n",
       "      <td>0.96500</td>\n",
       "      <td>0.973000</td>\n",
       "      <td>0.962000</td>\n",
       "      <td>0.790000</td>\n",
       "      <td>-1.412000</td>\n",
       "      <td>0.619000</td>\n",
       "      <td>0.962000</td>\n",
       "      <td>199.844000</td>\n",
       "      <td>5.000000</td>\n",
       "    </tr>\n",
       "  </tbody>\n",
       "</table>\n",
       "</div>"
      ],
      "text/plain": [
       "       Popularity  Acousticness  Danceability      Energy  Instrumentalness  \\\n",
       "count  200.000000    200.000000     200.00000  200.000000        200.000000   \n",
       "mean    76.545000      0.256809       0.67276    0.606000          0.058808   \n",
       "std     23.325057      0.268565       0.15347    0.179819          0.201666   \n",
       "min      0.000000      0.000025       0.23600    0.117000          0.000000   \n",
       "25%     78.750000      0.036800       0.57800    0.490250          0.000000   \n",
       "50%     84.000000      0.174500       0.68750    0.608500          0.000000   \n",
       "75%     88.000000      0.401750       0.79425    0.729250          0.000139   \n",
       "max    100.000000      0.987000       0.96500    0.973000          0.962000   \n",
       "\n",
       "         Liveness    Loudness  Speechiness     Valence       Tempo  \\\n",
       "count  200.000000  200.000000   200.000000  200.000000  200.000000   \n",
       "mean     0.168785   -6.783775     0.113762    0.507020  121.858770   \n",
       "std      0.128056    2.997011     0.108443    0.227467   28.714145   \n",
       "min      0.034400  -17.573000     0.023200    0.060500   48.718000   \n",
       "25%      0.095100   -8.085250     0.040375    0.333250   98.728250   \n",
       "50%      0.119500   -6.303500     0.060100    0.509000  121.478500   \n",
       "75%      0.185500   -4.662250     0.135250    0.680500  139.995000   \n",
       "max      0.790000   -1.412000     0.619000    0.962000  199.844000   \n",
       "\n",
       "       Time Signature  \n",
       "count      200.000000  \n",
       "mean         3.980000  \n",
       "std          0.223269  \n",
       "min          3.000000  \n",
       "25%          4.000000  \n",
       "50%          4.000000  \n",
       "75%          4.000000  \n",
       "max          5.000000  "
      ]
     },
     "execution_count": 19,
     "metadata": {},
     "output_type": "execute_result"
    }
   ],
   "source": [
    "final_df.describe()"
   ]
  },
  {
   "cell_type": "markdown",
   "metadata": {},
   "source": [
    "Store Results as **billboard.csv** file."
   ]
  },
  {
   "cell_type": "code",
   "execution_count": 20,
   "metadata": {},
   "outputs": [],
   "source": [
    "final_df.to_csv('billboard.csv')"
   ]
  }
 ],
 "metadata": {
  "kernelspec": {
   "display_name": "Python 3",
   "language": "python",
   "name": "python3"
  },
  "language_info": {
   "codemirror_mode": {
    "name": "ipython",
    "version": 3
   },
   "file_extension": ".py",
   "mimetype": "text/x-python",
   "name": "python",
   "nbconvert_exporter": "python",
   "pygments_lexer": "ipython3",
   "version": "3.8.5"
  }
 },
 "nbformat": 4,
 "nbformat_minor": 4
}
